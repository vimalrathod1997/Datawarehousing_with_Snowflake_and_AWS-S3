{
 "cells": [
  {
   "cell_type": "markdown",
   "id": "882ef043",
   "metadata": {},
   "source": [
    "Importing library psycopg2 for creating a database connection with our PostgreSQL server and creating a cursor for executing SQL queries on the associated database."
   ]
  },
  {
   "cell_type": "code",
   "execution_count": 1,
   "id": "0e87f925",
   "metadata": {},
   "outputs": [],
   "source": [
    "import psycopg2 as psy"
   ]
  },
  {
   "cell_type": "markdown",
   "id": "13684075",
   "metadata": {},
   "source": [
    "The below block of code is written to estabilish a connection with our database and create a cursor for the respective connection."
   ]
  },
  {
   "cell_type": "code",
   "execution_count": 2,
   "id": "d4284ef3",
   "metadata": {},
   "outputs": [],
   "source": [
    "conn=psy.connect(\"host=127.0.0.1 dbname=db_netflix_snowflake user=postgres password=Netflix@200\")\n",
    "conn.set_session(autocommit=True)\n",
    "cur=conn.cursor()"
   ]
  },
  {
   "cell_type": "markdown",
   "id": "d33f4283",
   "metadata": {},
   "source": [
    "Once we have estabilished the connection and created a cursor, we are going to write multiple SQL queries for creating tables, inserting data into these tables and creating a '.csv' file from a query result. These queries would be stored in variables and then we'd use our cursor to execute these queries."
   ]
  },
  {
   "cell_type": "code",
   "execution_count": 3,
   "id": "d11fb360",
   "metadata": {},
   "outputs": [],
   "source": [
    "Create_Credits_Table='''\n",
    "Create Table Credits(\n",
    "\tPerson_ID varchar,\n",
    "\tMovie_ID varchar,\n",
    "\tName_of_the_Person varchar,\n",
    "\tCharacter_played varchar,\n",
    "\tRole_of_the_person varchar\n",
    ")\n",
    "'''"
   ]
  },
  {
   "cell_type": "code",
   "execution_count": 4,
   "id": "82be0734",
   "metadata": {},
   "outputs": [],
   "source": [
    "cur.execute(Create_Credits_Table)"
   ]
  },
  {
   "cell_type": "code",
   "execution_count": 5,
   "id": "ee61065e",
   "metadata": {},
   "outputs": [],
   "source": [
    "Create_Titles_Table='''\n",
    "Create Table Titles(\n",
    "\tMovie_ID varchar,\n",
    "\tTitle_of_the_Movie varchar,\n",
    "\tMovie_or_Show varchar,\n",
    "\tDescription varchar,\n",
    "\tYear_of_release varchar,\n",
    "\tAge_certification_PG_rating varchar,\n",
    "\tRuntime_in_minutes varchar,\n",
    "\tGenres varchar,\n",
    "\tProduction_countries varchar,\n",
    "\tNumber_of_seasons int,\n",
    "\tIMDB_ID varchar,\n",
    "\tIMDB_Score double PRECISION,\n",
    "\tIMDB_Votes int,\n",
    "\tTMDB_Popularity double PRECISION,\n",
    "\tTMDB_Score double PRECISION\n",
    ")\n",
    "'''"
   ]
  },
  {
   "cell_type": "code",
   "execution_count": 6,
   "id": "8a48a531",
   "metadata": {},
   "outputs": [],
   "source": [
    "cur.execute(Create_Titles_Table)"
   ]
  },
  {
   "cell_type": "code",
   "execution_count": 7,
   "id": "c315a3d6",
   "metadata": {},
   "outputs": [],
   "source": [
    "copy_Data_to_Titles='''\n",
    "copy Titles(\n",
    "\tMovie_ID,\n",
    "\tTitle_of_the_Movie,\n",
    "\tMovie_or_Show,\n",
    "\tDescription,\n",
    "\tYear_of_release,\n",
    "\tAge_certification_PG_rating,\n",
    "\tRuntime_in_minutes,\n",
    "\tGenres,\n",
    "\tProduction_countries,\n",
    "\tNumber_of_seasons,\n",
    "\tIMDB_ID,\n",
    "\tIMDB_Score,\n",
    "\tIMDB_Votes,\n",
    "\tTMDB_Popularity,\n",
    "\tTMDB_Score\n",
    ") from 'C:\\\\Users\\\\Vimal\\\\Desktop\\\\Projects\\\\Snowflake Data Warehouse Project\\\\Data\\\\Titles_Raw.csv'\n",
    "Delimiter ','\n",
    "CSv Header;\n",
    "'''"
   ]
  },
  {
   "cell_type": "code",
   "execution_count": 8,
   "id": "3d3eb8ad",
   "metadata": {},
   "outputs": [],
   "source": [
    "cur.execute(copy_Data_to_Titles)"
   ]
  },
  {
   "cell_type": "code",
   "execution_count": 9,
   "id": "0622548d",
   "metadata": {},
   "outputs": [],
   "source": [
    "copy_Data_to_Credits='''\n",
    "copy Credits (\n",
    "\tPerson_ID,\n",
    "\tMovie_ID,\n",
    "\tName_of_the_Person,\n",
    "\tCharacter_played, \n",
    "\tRole_of_the_person\n",
    ") from 'C:\\\\Users\\\\Vimal\\\\Desktop\\\\Projects\\\\Snowflake Data Warehouse Project\\\\Data\\\\Credits_Raw.csv'\n",
    "Delimiter ','\n",
    "CSv Header;'''"
   ]
  },
  {
   "cell_type": "code",
   "execution_count": 10,
   "id": "fe54e1a3",
   "metadata": {},
   "outputs": [],
   "source": [
    "cur.execute(copy_Data_to_Credits)"
   ]
  },
  {
   "cell_type": "code",
   "execution_count": 16,
   "id": "e47f3782",
   "metadata": {},
   "outputs": [],
   "source": [
    "create_IMDB_Table ='''\n",
    "Create Table IMDB(\n",
    "\tIMDB_ID varchar,\n",
    "\tIMDB_Score double PRECISION,\n",
    "\tIMDB_Votes int\n",
    ")\n",
    "'''"
   ]
  },
  {
   "cell_type": "code",
   "execution_count": 17,
   "id": "efad4bad",
   "metadata": {},
   "outputs": [],
   "source": [
    "create_TMDB_Table='''\n",
    "Create Table TMDB(\n",
    "\tTMDB_Popularity double PRECISION,\n",
    "\tTMDB_Score double PRECISION\n",
    ")'''"
   ]
  },
  {
   "cell_type": "code",
   "execution_count": 13,
   "id": "70983583",
   "metadata": {},
   "outputs": [],
   "source": [
    "create_Actors_Table='''\n",
    "Create Table Actors(\n",
    "\tPerson_ID varchar,\n",
    "\tMovie_ID varchar,\n",
    "\tName_of_the_Person varchar,\n",
    "\tCharacter_played varchar,\n",
    "\tRole_of_the_person varchar\n",
    ")'''\n"
   ]
  },
  {
   "cell_type": "code",
   "execution_count": 14,
   "id": "e17fe846",
   "metadata": {},
   "outputs": [],
   "source": [
    "create_Directors_Table='''\n",
    "Create Table Directors(\n",
    "\tPerson_ID varchar,\n",
    "\tMovie_ID varchar,\n",
    "\tName_of_the_Person varchar,\n",
    "\tRole_of_the_person varchar\n",
    ")\n",
    "'''"
   ]
  },
  {
   "cell_type": "code",
   "execution_count": 18,
   "id": "6ac1f645",
   "metadata": {},
   "outputs": [],
   "source": [
    "cur.execute(create_IMDB_Table)"
   ]
  },
  {
   "cell_type": "code",
   "execution_count": 19,
   "id": "b5052ebf",
   "metadata": {},
   "outputs": [],
   "source": [
    "cur.execute(create_TMDB_Table)"
   ]
  },
  {
   "cell_type": "code",
   "execution_count": 20,
   "id": "436408ea",
   "metadata": {},
   "outputs": [
    {
     "ename": "DuplicateTable",
     "evalue": "relation \"actors\" already exists\n",
     "output_type": "error",
     "traceback": [
      "\u001b[1;31m---------------------------------------------------------------------------\u001b[0m",
      "\u001b[1;31mDuplicateTable\u001b[0m                            Traceback (most recent call last)",
      "Input \u001b[1;32mIn [20]\u001b[0m, in \u001b[0;36m<cell line: 1>\u001b[1;34m()\u001b[0m\n\u001b[1;32m----> 1\u001b[0m \u001b[43mcur\u001b[49m\u001b[38;5;241;43m.\u001b[39;49m\u001b[43mexecute\u001b[49m\u001b[43m(\u001b[49m\u001b[43mcreate_Actors_Table\u001b[49m\u001b[43m)\u001b[49m\n",
      "\u001b[1;31mDuplicateTable\u001b[0m: relation \"actors\" already exists\n"
     ]
    }
   ],
   "source": [
    "cur.execute(create_Actors_Table)"
   ]
  },
  {
   "cell_type": "code",
   "execution_count": 21,
   "id": "8c34cee0",
   "metadata": {},
   "outputs": [
    {
     "ename": "DuplicateTable",
     "evalue": "relation \"directors\" already exists\n",
     "output_type": "error",
     "traceback": [
      "\u001b[1;31m---------------------------------------------------------------------------\u001b[0m",
      "\u001b[1;31mDuplicateTable\u001b[0m                            Traceback (most recent call last)",
      "Input \u001b[1;32mIn [21]\u001b[0m, in \u001b[0;36m<cell line: 1>\u001b[1;34m()\u001b[0m\n\u001b[1;32m----> 1\u001b[0m \u001b[43mcur\u001b[49m\u001b[38;5;241;43m.\u001b[39;49m\u001b[43mexecute\u001b[49m\u001b[43m(\u001b[49m\u001b[43mcreate_Directors_Table\u001b[49m\u001b[43m)\u001b[49m\n",
      "\u001b[1;31mDuplicateTable\u001b[0m: relation \"directors\" already exists\n"
     ]
    }
   ],
   "source": [
    "cur.execute(create_Directors_Table)"
   ]
  },
  {
   "cell_type": "code",
   "execution_count": 22,
   "id": "04389969",
   "metadata": {},
   "outputs": [],
   "source": [
    "insert_into_IMDB_Table='''\n",
    "Insert into IMDB\n",
    "Select IMDB_ID,\n",
    "IMDB_Score,\n",
    "IMDB_Votes from Titles'''"
   ]
  },
  {
   "cell_type": "code",
   "execution_count": 23,
   "id": "26ad0ba3",
   "metadata": {},
   "outputs": [],
   "source": [
    "cur.execute(insert_into_IMDB_Table)"
   ]
  },
  {
   "cell_type": "code",
   "execution_count": 24,
   "id": "f17f10db",
   "metadata": {},
   "outputs": [],
   "source": [
    "insert_into_TMDB_Table='''Insert into TMDB\n",
    "Select TMDB_Popularity,\n",
    "TMDB_Score from Titles'''"
   ]
  },
  {
   "cell_type": "code",
   "execution_count": 25,
   "id": "2fcb5167",
   "metadata": {},
   "outputs": [],
   "source": [
    "cur.execute(insert_into_TMDB_Table)"
   ]
  },
  {
   "cell_type": "code",
   "execution_count": 28,
   "id": "d1077ba2",
   "metadata": {},
   "outputs": [],
   "source": [
    "insert_into_Actors_Table='''\n",
    "Insert into Actors\n",
    "Select \n",
    "Person_ID,\n",
    "Movie_ID,\n",
    "Name_of_the_Person,\n",
    "Character_played, \n",
    "Role_of_the_person\n",
    "from Credits where Role_of_the_person='ACTOR'\n",
    "'''"
   ]
  },
  {
   "cell_type": "code",
   "execution_count": 29,
   "id": "f4906645",
   "metadata": {},
   "outputs": [],
   "source": [
    "cur.execute(insert_into_Actors_Table)"
   ]
  },
  {
   "cell_type": "code",
   "execution_count": 30,
   "id": "02a3eed8",
   "metadata": {},
   "outputs": [],
   "source": [
    "insert_into_Directors_Table='''\n",
    "Insert into Directors\n",
    "Select \n",
    "Person_ID,\n",
    "Movie_ID,\n",
    "Name_of_the_Person,\n",
    "Role_of_the_person \n",
    "from Credits where Role_of_the_person='DIRECTOR'\n",
    "'''"
   ]
  },
  {
   "cell_type": "code",
   "execution_count": 31,
   "id": "70b9b848",
   "metadata": {},
   "outputs": [],
   "source": [
    "cur.execute(insert_into_Directors_Table)"
   ]
  },
  {
   "cell_type": "code",
   "execution_count": 34,
   "id": "cae573af",
   "metadata": {},
   "outputs": [],
   "source": [
    "Copy_credits_and_Titles_to_a_new_csv_file='''\n",
    "copy (Select  \n",
    "t.Movie_ID,\n",
    "t.Movie_or_Show,\n",
    "t.Year_of_release,\n",
    "t.Age_certification_PG_rating,\n",
    "t.Runtime_in_minutes,\n",
    "t.Genres,\n",
    "t.Production_countries,\n",
    "t.Number_of_seasons,\n",
    "t.IMDB_Score,\n",
    "t.IMDB_Votes,\n",
    "t.TMDB_Popularity,\n",
    "t.TMDB_Score,\n",
    "c.Name_of_the_Person,\n",
    "c.Role_of_the_person from Titles t inner join \n",
    "Credits c on c.Movie_ID=t.Movie_ID) to 'C:\\\\Users\\\\Vimal\\\\Desktop\\\\Projects\\\\Snowflake Data Warehouse Project\\\\Data\\\\s3_data\\\\s3_Warehouse_data.csv'\n",
    "Delimiter ','\n",
    "CSV Header'''"
   ]
  },
  {
   "cell_type": "code",
   "execution_count": 37,
   "id": "ceae9348",
   "metadata": {},
   "outputs": [],
   "source": [
    "cur.execute(Copy_credits_and_Titles_to_a_new_csv_file)"
   ]
  },
  {
   "cell_type": "code",
   "execution_count": null,
   "id": "be5c3606",
   "metadata": {},
   "outputs": [],
   "source": []
  }
 ],
 "metadata": {
  "kernelspec": {
   "display_name": "Python 3 (ipykernel)",
   "language": "python",
   "name": "python3"
  },
  "language_info": {
   "codemirror_mode": {
    "name": "ipython",
    "version": 3
   },
   "file_extension": ".py",
   "mimetype": "text/x-python",
   "name": "python",
   "nbconvert_exporter": "python",
   "pygments_lexer": "ipython3",
   "version": "3.10.5"
  }
 },
 "nbformat": 4,
 "nbformat_minor": 5
}
